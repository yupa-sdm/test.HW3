{
 "cells": [
  {
   "cell_type": "code",
   "execution_count": 15,
   "metadata": {},
   "outputs": [
    {
     "data": {
      "text/plain": [
       "'PEP:/20\\nTitle:/The Zen of Python\\nAuthor:/tim.peters at gmail.com (Tim Peters)\\nStatus:/Active\\nType:/Informational\\nCreated:/19-Aug-2004\\nPost-History:/22-Aug-2004'"
      ]
     },
     "execution_count": 15,
     "metadata": {},
     "output_type": "execute_result"
    }
   ],
   "source": [
    "f = open('C:/Programming/test/title_zen_of_python.txt')\n",
    "f.read()"
   ]
  },
  {
   "cell_type": "code",
   "execution_count": 16,
   "metadata": {},
   "outputs": [
    {
     "name": "stdout",
     "output_type": "stream",
     "text": [
      " 1: PEP:/20\n",
      " 2: Title:/The Zen of Python\n",
      " 3: Author:/tim.peters at gmail.com (Tim Peters)\n",
      " 4: Status:/Active\n",
      " 5: Type:/Informational\n",
      " 6: Created:/19-Aug-2004\n",
      " 7: Post-History:/22-Aug-2004\n"
     ]
    }
   ],
   "source": [
    "with open('C:/Programming/test/title_zen_of_python.txt') as fp:  \n",
    "    cnt = 1\n",
    "    for line in fp:\n",
    "        print(\" {}: {}\".format(cnt, line.strip()))\n",
    "        cnt += 1"
   ]
  },
  {
   "cell_type": "code",
   "execution_count": 17,
   "metadata": {},
   "outputs": [
    {
     "name": "stdout",
     "output_type": "stream",
     "text": [
      "Post-History:/22-Aug-2004\n",
      "Created:/19-Aug-2004\n",
      "Type:/Informational\n",
      "Status:/Active\n",
      "Author:/tim.peters at gmail.com (Tim Peters)\n",
      "Title:/The Zen of Python\n",
      "PEP:/20\n"
     ]
    }
   ],
   "source": [
    "data = [\"Post-History:/22-Aug-2004\",\n",
    "        \"Created:/19-Aug-2004\",\n",
    "        \"Type:/Informational\",\n",
    "        \"Status:/Active\",\n",
    "        \"Author:/tim.peters at gmail.com (Tim Peters)\",\n",
    "        \"Title:/The Zen of Python\",\n",
    "        \"PEP:/20\"]\n",
    "\n",
    "with open('C:/Programming/test/title_zen_of_python.txt', 'w') as fp:\n",
    "    for line in data:\n",
    "        fp.write(line+\"\\n\")\n",
    "        \n",
    "with open('C:/Programming/test/title_zen_of_python.txt', 'r') as fp:  \n",
    "    line = fp.readline()\n",
    "    while line:\n",
    "        print(\"{}\".format(line.strip()))\n",
    "        line = fp.readline()"
   ]
  }
 ],
 "metadata": {
  "interpreter": {
   "hash": "20e94fdcf5dd36945a318af8549b9005a372ec7b8f0803299839a86e6871afaf"
  },
  "kernelspec": {
   "display_name": "Python 3.8.8 64-bit ('base': conda)",
   "language": "python",
   "name": "python3"
  },
  "language_info": {
   "codemirror_mode": {
    "name": "ipython",
    "version": 3
   },
   "file_extension": ".py",
   "mimetype": "text/x-python",
   "name": "python",
   "nbconvert_exporter": "python",
   "pygments_lexer": "ipython3",
   "version": "3.8.8"
  },
  "orig_nbformat": 4
 },
 "nbformat": 4,
 "nbformat_minor": 2
}
