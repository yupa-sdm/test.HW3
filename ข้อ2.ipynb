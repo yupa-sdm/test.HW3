{
 "cells": [
  {
   "cell_type": "code",
   "execution_count": 3,
   "metadata": {},
   "outputs": [
    {
     "data": {
      "text/plain": [
       "'1. Beautiful is better than ugly.\\n2. Explicit is better than implicit.\\n3. Simple is better than complex.\\n4. Complex is better than complicated.\\n5. Flat is better than nested.\\n6. Sparse is better than dense.\\n7. Readability counts.\\n8. Special cases aren\\'t special enough to break the rules.\\n9. Although practicality beats purity.\\n10. Errors should never pass silently.\\n11. Unless explicitly silenced.\\n\"12. In the face of ambiguity, refuse the temptation to guess.\"\\n13.There should be one-- and preferably only one --obvious way to do it.\\n14. Although that way may not be obvious at first unless you\\'re Dutch.\\n15. Now is better than never.\\n16. Although never is often better than *right* now.\\n\"17. If the implementation is hard to explain, it\\'s a bad idea.\"\\n\"18. If the implementation is easy to explain, it may be a good idea.\"\\n19. Namespaces are one honking great idea -- let\\'s do more of those!\\n'"
      ]
     },
     "execution_count": 3,
     "metadata": {},
     "output_type": "execute_result"
    }
   ],
   "source": [
    "f = open('C:/Programming/test/zen_of_python.csv')\n",
    "f.read()"
   ]
  },
  {
   "cell_type": "code",
   "execution_count": 4,
   "metadata": {},
   "outputs": [
    {
     "name": "stdout",
     "output_type": "stream",
     "text": [
      " 1: 1. Beautiful is better than ugly.\n",
      " 2: 2. Explicit is better than implicit.\n",
      " 3: 3. Simple is better than complex.\n",
      " 4: 4. Complex is better than complicated.\n",
      " 5: 5. Flat is better than nested.\n",
      " 6: 6. Sparse is better than dense.\n",
      " 7: 7. Readability counts.\n",
      " 8: 8. Special cases aren't special enough to break the rules.\n",
      " 9: 9. Although practicality beats purity.\n",
      " 10: 10. Errors should never pass silently.\n",
      " 11: 11. Unless explicitly silenced.\n",
      " 12: \"12. In the face of ambiguity, refuse the temptation to guess.\"\n",
      " 13: 13.There should be one-- and preferably only one --obvious way to do it.\n",
      " 14: 14. Although that way may not be obvious at first unless you're Dutch.\n",
      " 15: 15. Now is better than never.\n",
      " 16: 16. Although never is often better than *right* now.\n",
      " 17: \"17. If the implementation is hard to explain, it's a bad idea.\"\n",
      " 18: \"18. If the implementation is easy to explain, it may be a good idea.\"\n",
      " 19: 19. Namespaces are one honking great idea -- let's do more of those!\n"
     ]
    }
   ],
   "source": [
    "with open('C:/Programming/test/zen_of_python.csv') as fp:  \n",
    "    cnt = 1\n",
    "    for line in fp:\n",
    "        print(\" {}: {}\".format(cnt, line.strip()))\n",
    "        cnt += 1"
   ]
  }
 ],
 "metadata": {
  "interpreter": {
   "hash": "20e94fdcf5dd36945a318af8549b9005a372ec7b8f0803299839a86e6871afaf"
  },
  "kernelspec": {
   "display_name": "Python 3.8.8 64-bit ('base': conda)",
   "language": "python",
   "name": "python3"
  },
  "language_info": {
   "codemirror_mode": {
    "name": "ipython",
    "version": 3
   },
   "file_extension": ".py",
   "mimetype": "text/x-python",
   "name": "python",
   "nbconvert_exporter": "python",
   "pygments_lexer": "ipython3",
   "version": "3.8.8"
  },
  "orig_nbformat": 4
 },
 "nbformat": 4,
 "nbformat_minor": 2
}
